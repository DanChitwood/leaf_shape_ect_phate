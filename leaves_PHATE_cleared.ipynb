{
 "cells": [
  {
   "cell_type": "markdown",
   "id": "ebc59bfa",
   "metadata": {},
   "source": [
    "### Import modules"
   ]
  },
  {
   "cell_type": "code",
   "execution_count": null,
   "id": "8f856b24",
   "metadata": {},
   "outputs": [],
   "source": [
    "#-----------------\n",
    "# Standard imports\n",
    "#-----------------\n",
    "import numpy as np # for arrays\n",
    "import matplotlib.pyplot as plt # for plotting\n",
    "from sklearn.decomposition import PCA # for PCA for normalization\n",
    "from scipy.spatial import distance_matrix\n",
    "import os # for dealing with directories\n",
    "from os import listdir # for retrieving files from directory\n",
    "from os.path import isfile, join # for retrieving files from directory\n",
    "from sklearn.manifold import MDS # for MDS\n",
    "import pandas as pd # for loading in colors csv\n",
    "from scipy.spatial import ConvexHull # for convex hull\n",
    "import seaborn as sns # for plotting\n",
    "import math # for isnan\n",
    "\n",
    "#---------------------------\n",
    "# The ECT packages we'll use\n",
    "#---------------------------\n",
    "from ect import ECT, EmbeddedGraph # for calculating ECTs # pip install ect\n",
    "\n",
    "#---------------------------\n",
    "# The PHATE packages we'll use\n",
    "#---------------------------\n",
    "import phate # for using PHATE # pip install --user phate\n",
    "import scprep # for using PHATE"
   ]
  },
  {
   "cell_type": "markdown",
   "id": "e4427fe5",
   "metadata": {},
   "source": [
    "### Define functions"
   ]
  },
  {
   "cell_type": "code",
   "execution_count": null,
   "id": "34775a2f",
   "metadata": {},
   "outputs": [],
   "source": [
    "def normalize(shape):\n",
    "    \"\"\"\n",
    "    input: ordered coordinates of a 2D closed contour\n",
    "    output: 2D array, coordinates origin centered on centroid and longest radius = 1\n",
    "    \"\"\"\n",
    "    pca = PCA(n_components=2) # initiate PCA\n",
    "    pca.fit_transform(shape) # fit PCA to leaf data to find longest axis\n",
    "    pca_scores = pca.transform(shape) # retrieve PCA scores of leaf\n",
    "\n",
    "    # return leaf normalized by longest axis to 1, zero centered\n",
    "    return pca_scores/(np.max(pca_scores[:,0])-np.min(pca_scores[:,0]))"
   ]
  },
  {
   "cell_type": "code",
   "execution_count": null,
   "id": "c8a509bb",
   "metadata": {},
   "outputs": [],
   "source": [
    "def get_ect(normal_sh, dir_num, thresh_num, global_bound_radius):\n",
    "    \"\"\"\n",
    "    inputs: ordered coordinates of a normalized 2D closed contour, longest diameter = 1\n",
    "    dir_num = number of directional axes\n",
    "    thresh_num = number of thresholds\n",
    "    global_bound_radius = half of the longest normalized diameter\n",
    "    output: ECT as 2D array\n",
    "    \"\"\"\n",
    "    G = EmbeddedGraph() # initiate an embedded graph\n",
    "\n",
    "    valuesX = normal_sh[:,0] # isolate x vals\n",
    "    valuesY = normal_sh[:,1] # isolate y vals\n",
    "    for i in range(np.shape(normal_sh)[0]): # create nodes\n",
    "        G.add_node(i,valuesX[i],valuesY[i])\n",
    "    for i in range(np.shape(normal_sh)[0]-1): # create edges\n",
    "        G.add_edge(i, i+1)\n",
    "    G.add_edge(0,np.shape(normal_sh)[0]-1) # add final edge between start and end\n",
    "\n",
    "    myect = ECT(num_dirs = dir_num, num_thresh=thresh_num) # intiate ECT\n",
    "    myect.set_bounding_radius(global_bound_radius) # set bounding radius\n",
    "    myect.calculateECT(G) # calculate ECT on embedded graph\n",
    "\n",
    "    return myect.get_ECT() # retrieve ECT, 2D array, [axes, thresh]"
   ]
  },
  {
   "cell_type": "code",
   "execution_count": null,
   "id": "41f39ca2",
   "metadata": {},
   "outputs": [],
   "source": [
    "def ect_diff(ect1, ect2,dir_num):\n",
    "    \"\"\"\n",
    "    inputs: two, 2D arrays of ECTs and number of directional axes\n",
    "    output: the minimum sum diff between the two ECT arrays across different orientations\n",
    "    \"\"\"\n",
    "    diffs = [] # store differences \n",
    "    for i in range(dir_num): # for the number of directional axes\n",
    "        roll_ect = np.roll(ect1,i,axis=0) # roll the array by 1 along directional axes\n",
    "        diff_ect = np.abs(ect2 - roll_ect) # difference between the two arrays\n",
    "        diffs.append(np.sum(diff_ect)) # store the sum of the differences\n",
    "    return np.min(diffs) # return minimum difference"
   ]
  },
  {
   "cell_type": "code",
   "execution_count": null,
   "id": "f7f22e4e",
   "metadata": {},
   "outputs": [],
   "source": [
    "def poly_area(x,y):\n",
    "    \"\"\"\n",
    "    define a function to calculate the area of a polygon using the shoelace algorithm\n",
    "    inputs: separate numpy arrays of x and y coordinate values\n",
    "    outputs: the area of the polygon\n",
    "    \"\"\"\n",
    "    return 0.5*np.abs(np.dot(x,np.roll(y,1))-np.dot(y,np.roll(x,1)))"
   ]
  },
  {
   "cell_type": "markdown",
   "id": "c675e224-31b3-4381-ba2a-66c1d80299c9",
   "metadata": {},
   "source": [
    "_______"
   ]
  },
  {
   "cell_type": "markdown",
   "id": "af176b6f-2afe-445d-b3b8-351c56a93350",
   "metadata": {},
   "source": [
    "# Calculate the Euler Characteristic Transform (ECT) for leaf shapes"
   ]
  },
  {
   "cell_type": "markdown",
   "id": "84e9bef5-a327-47f6-a7e2-9b78aa03487b",
   "metadata": {},
   "source": [
    "_______"
   ]
  },
  {
   "cell_type": "markdown",
   "id": "a7a8ad28-2f3c-4ca6-8cbb-9a0a3c052bc3",
   "metadata": {},
   "source": [
    "***The method:***\n",
    "\n",
    "Learn more about the Euler Charactertistic Transform from the manuscript below:\n",
    "\n",
    "Elizabeth Munch (2023) **[An Invitation to the Euler Characteristic Transform](https://arxiv.org/abs/2310.10395)**, *arXiv*\n",
    "\n",
    "In this Jupyter notebook tutorial, we use the [`ect` module](https://munchlab.github.io/ect/) in python developed by Elizabeth Munch and her lab."
   ]
  },
  {
   "cell_type": "markdown",
   "id": "d2e959e9-0fa0-4f62-9c3b-c031138cde50",
   "metadata": {},
   "source": [
    "***The data:***\n",
    "\n",
    "The following data was stored in a folder called `2017_leaves` in the working directory. The data can be downloaded from:\n",
    "\n",
    "Wang, Elena; Willey, Nathan; Chitwood, Dan (2024). [Modified leaf shape contour data](https://doi.org/10.6084/m9.figshare.25435936.v1). figshare. Dataset. https://doi.org/10.6084/m9.figshare.25435936.v1"
   ]
  },
  {
   "cell_type": "markdown",
   "id": "f54d5d91-d8b9-4596-9fdb-98664fb8fa44",
   "metadata": {},
   "source": [
    "### Define datasets and groups"
   ]
  },
  {
   "cell_type": "code",
   "execution_count": null,
   "id": "c26088e3-d994-4eda-9b15-6bd2a3c0f538",
   "metadata": {},
   "outputs": [],
   "source": [
    "# a list of folder directories of datasets to analyze\n",
    "datasets = [\"Alstroemeria\",\n",
    "            \"Apple\",\n",
    "            \"Arabidopsis\",\n",
    "            \"Arabidopsis_asymmetry\",\n",
    "            \"Brassica/napus\",\n",
    "            \"Brassica/rapa\",\n",
    "            \"Coleus/Co1\",\n",
    "            \"Coleus/Co2\",\n",
    "            \"Coleus/Co3\",\n",
    "            \"Coleus/Co4\",\n",
    "            \"Coleus/Co5\",\n",
    "            \"Coleus/Co6\",\n",
    "            \"Cotton\",\n",
    "            \"Grape/Domesticated_grape/GrapeJune1.2011\",\n",
    "            \"Grape/Domesticated_grape/GrapeMay28.2011\",\n",
    "            \"Grape/Domesticated_grape/GrapeMay29.2011\",\n",
    "            \"Grape/Domesticated_grape/GrapeMay30.2011\",\n",
    "            \"Grape/Domesticated_grape/GrapeMay31.2011\",\n",
    "            \"Grape/Geneva_2013/Folder1_Jose\",\n",
    "            \"Grape/Geneva_2013/Folder2_Tommy\",\n",
    "            \"Grape/Geneva_2013/Folder3_Danny\",\n",
    "            \"Grape/Geneva_2013/Folder4_Quaneisha\",\n",
    "            \"Grape/Geneva_2013/Folder5_Susan\",\n",
    "            \"Grape/Geneva_2013/Folder6_Darren\",\n",
    "            \"Grape/Geneva_2013/Folder7_Jose2\",\n",
    "            \"Grape/Geneva_2013/Folder8_Susan2\",\n",
    "            \"Grape/Geneva_2013/Folder9_Tommy2\",\n",
    "            \"Grape/Geneva_2013/Folder10_Quaneisha2\",\n",
    "            \"Grape/Geneva_2013/Folder11_Darren2\",\n",
    "            \"Grape/Geneva_2013/Folder12_Danny\",\n",
    "            \"Grape/Geneva_2015/060815\",\n",
    "            \"Grape/Geneva_2015/060915\",\n",
    "            \"Grape/Geneva_2015/061015\",\n",
    "            \"Grape/Geneva_2016/Dan_Geneva_2016\",\n",
    "            \"Grape/Geneva_2016/MF_Geneva_2016\",\n",
    "            \"Grape/MtVernon_scans/2014_MtVernon_Scans\",\n",
    "            \"Grape/MtVernon_scans/2016_MtVernon_Scans\",\n",
    "            \"Grass\",\n",
    "            \"Ivy\",\n",
    "            \"Leafsnap\",\n",
    "            \"Passiflora\",\n",
    "            \"Pepper\",\n",
    "            \"Potato\",\n",
    "            \"Tomato_asymmetry\",\n",
    "            \"Tomato_BILs/B1\",\n",
    "            \"Tomato_BILs/B2\",\n",
    "            \"Tomato_BILs/B3\",\n",
    "            \"Tomato_chamber/C1\",\n",
    "            \"Tomato_chamber/C2\",\n",
    "            \"Tomato_chamber/C3\",\n",
    "            \"Tomato_chamber/C4\",\n",
    "            \"Tomato_chamber/C5\",\n",
    "            \"Tomato_entire\",\n",
    "            \"Tomato_field/F1\",\n",
    "            \"Tomato_field/F2\",\n",
    "            \"Tomato_wild/WA\",\n",
    "            \"Tomato_wild/WB\",\n",
    "            \"Transect/Batch_1_W\",\n",
    "            \"Transect/Batch_2_B\",\n",
    "            \"Viburnum/V1\",\n",
    "            \"Viburnum/V2\",\n",
    "           ]\n",
    "\n",
    "# make a list of overall groups\n",
    "groups = [] # store group names\n",
    "\n",
    "for i in datasets: # for each dataset\n",
    "\n",
    "    if (\"Tomato\" in i) & (\"/\" in i):\n",
    "        groups.append(i[:i.index('_')]) # then only take up to the underscore\n",
    "    \n",
    "    elif \"/\" in i: # if there are subfolders\n",
    "        groups.append(i[:i.index('/')]) # then only take the name of the first folder\n",
    "    elif \"_\" in i: # if there is a redundant folder with \"_\" like Arabidopsis\n",
    "        groups.append(i[:i.index('_')]) # then only take up to the underscore\n",
    "    else:\n",
    "        groups.append(i) # otherwise just take the whole name"
   ]
  },
  {
   "cell_type": "markdown",
   "id": "65e4ae48-9b7e-4a7c-bed9-fca8d09c1fe8",
   "metadata": {},
   "source": [
    "### Create a dataframe of all files"
   ]
  },
  {
   "cell_type": "markdown",
   "id": "000ea5db-c8a2-4db1-bbc4-310581a2fe2e",
   "metadata": {},
   "source": [
    "Create a pandas dataframe of file names, groups, and datasets"
   ]
  },
  {
   "cell_type": "code",
   "execution_count": null,
   "id": "30634fb7-8750-4bc3-8184-3df609cacfb7",
   "metadata": {},
   "outputs": [],
   "source": [
    "file_names = [] # store file names\n",
    "dataset = [] # store dataset names\n",
    "group = [] # store group names\n",
    "\n",
    "for i in range(len(datasets)): # for each dataset\n",
    "    \n",
    "    curr_dataset = datasets[i] # get current dataset\n",
    "    curr_group = groups[i] # get current group\n",
    "    data_dir = \"./2017_leaves/\"+curr_dataset+\"/\" # set data directory\n",
    "    files = [f for f in listdir(data_dir) if isfile(join(data_dir, f))] # create a list of file names\n",
    "    #file_names.remove('.DS_Store') # remove .DS_Store file\n",
    "    files.sort() # sort the list of file names\n",
    "\n",
    "    for j in range(len(files)): # for each file\n",
    "        \n",
    "        file_names.append(\"./2017_leaves/\"+curr_dataset+\"/\"+files[j]) # store file names\n",
    "        dataset.append(curr_dataset) # store datasets\n",
    "        group.append(curr_group) # store group\n",
    "        \n",
    "# create a pandas dataframe of all file info\n",
    "lf_df = pd.DataFrame(\n",
    "    {\"group\":group,\n",
    "     \"dataset\":dataset,\n",
    "     \"file\":file_names,\n",
    "    })\n",
    "\n",
    "# print out number of each dataset\n",
    "lf_df[\"group\"].value_counts()"
   ]
  },
  {
   "cell_type": "markdown",
   "id": "91274fc1",
   "metadata": {},
   "source": [
    "### Create a downsampled dataset (or not)"
   ]
  },
  {
   "cell_type": "markdown",
   "id": "6e669497-0b5e-4473-94f4-d994588928e7",
   "metadata": {},
   "source": [
    "The code below will either downsample or not. If you don't want to downsample, select downsample as `False`. If you do want to downsample, select `True` and select the random number you want to select from each clade."
   ]
  },
  {
   "cell_type": "code",
   "execution_count": null,
   "id": "40cca7fa",
   "metadata": {},
   "outputs": [],
   "source": [
    "downsample = True # do you want to downsample, True or False\n",
    "rand_num = 800 # select number to randomly sample\n",
    "df_list = [] # a list to store pandas dataframes\n",
    "rand_state = 42 # set the random state\n",
    "\n",
    "if downsample==False:\n",
    "    rand_df = lf_df\n",
    "\n",
    "else:\n",
    "    for i in lf_df[\"group\"].unique(): # for each group\n",
    "        curr_group = lf_df[lf_df[\"group\"]==i] # select all samples of current group\n",
    "        df_list.append(curr_group.sample(n=rand_num, random_state=rand_state)) # select random rows for the current group\n",
    "        \n",
    "    rand_df = pd.concat(df_list).reset_index() # concatenate list of dataframes together\n",
    "\n",
    "print(len(rand_df)) # print the overall length of the selected cells"
   ]
  },
  {
   "cell_type": "markdown",
   "id": "e60fb6a4",
   "metadata": {},
   "source": [
    "### Analyze solidity and aspect ratio"
   ]
  },
  {
   "cell_type": "markdown",
   "id": "1d11b46b",
   "metadata": {},
   "source": [
    "Calculate solidity and aspect ratio"
   ]
  },
  {
   "cell_type": "code",
   "execution_count": null,
   "id": "a24ef766",
   "metadata": {},
   "outputs": [],
   "source": [
    "solidity = [] # store solidity values\n",
    "wl_ratio = [] # store width-to-length ratio values\n",
    "\n",
    "for i in range(len(rand_df)): # for each of the randomly selected leaves\n",
    "    \n",
    "    curr_file = rand_df[\"file\"][i] # get current file\n",
    "     \n",
    "    # calculate solidity\n",
    "    curr_cell = np.load(curr_file) # load current leaf\n",
    "    hull = ConvexHull(curr_cell) # calculate convex hull of current leaf\n",
    "    vertices = hull.vertices # isolate vertex indices of convex hull\n",
    "    area = poly_area(curr_cell[:,0], curr_cell[:,1]) # calculate area\n",
    "    convex_area = poly_area(curr_cell[vertices,0], curr_cell[vertices,1]) # calculate convex area\n",
    "    solidity.append( area / convex_area ) # calculate solidity and store\n",
    "\n",
    "    # calculate length-to-width ratio\n",
    "    pca = PCA(n_components=2) # initiate PCA\n",
    "    pca.fit_transform(curr_cell) # fit PCA to cell data to find longest axis\n",
    "    pca_scores = pca.transform(curr_cell) # retrieve PCA scores of cell\n",
    "    length = np.max(pca_scores[:,0])-np.min(pca_scores[:,0]) # get length\n",
    "    width = np.max(pca_scores[:,1])-np.min(pca_scores[:,1]) # get width\n",
    "    wl_ratio.append(width/length) # store length-to-width ratio\n",
    "    \n",
    "rand_df[\"solidity8\"] = np.array(solidity)**8 # add solidity to random leaves\n",
    "rand_df[\"wl_ratio\"] = wl_ratio # add width-to-length ratio to random leaves"
   ]
  },
  {
   "cell_type": "markdown",
   "id": "46219273",
   "metadata": {},
   "source": [
    "Plot solidity and aspect ratio"
   ]
  },
  {
   "cell_type": "code",
   "execution_count": null,
   "id": "4b2b33f4",
   "metadata": {},
   "outputs": [],
   "source": [
    "ax = sns.scatterplot(data=rand_df,\n",
    "                x=\"wl_ratio\",\n",
    "                y=\"solidity8\",\n",
    "                hue=\"group\",\n",
    "                s=5,\n",
    "                linewidth=0,\n",
    "                alpha=1\n",
    "               )\n",
    "sns.move_legend(ax, \"upper left\", bbox_to_anchor=(1, 1))\n",
    "plt.title(\"Solidity^8 vs width-to-length ratio\\nby group\")"
   ]
  },
  {
   "cell_type": "markdown",
   "id": "fbfcbdf6",
   "metadata": {},
   "source": [
    "Plot solidity and aspect ratio with leaf outlines"
   ]
  },
  {
   "cell_type": "code",
   "execution_count": null,
   "id": "63aede77",
   "metadata": {},
   "outputs": [],
   "source": [
    "rand_num = 200 # set number of random cells to visualize\n",
    "scale = 0.02 # set scale of leaves\n",
    "rand_state = 42 # set the random state\n",
    "\n",
    "rand_plot_df = rand_df.sample(n=rand_num, random_state=rand_state, ignore_index=True) # select random leaves\n",
    "\n",
    "for i in range(len(rand_plot_df)): # for each of the randomly selected leaves\n",
    "\n",
    "    curr_lf = np.load(rand_plot_df[\"file\"][i]) # get current file\n",
    "    pca = PCA(n_components=2) # initiate PCA\n",
    "    pca.fit_transform(curr_lf) # fit PCA to cell data to find longest axis\n",
    "    pca_scores = pca.transform(curr_lf) # retrieve PCA scores of leaf\n",
    "    \n",
    "    curr_lfx = pca_scores[:,0]*scale+rand_plot_df[\"wl_ratio\"].iloc[i]\n",
    "    curr_lfy = pca_scores[:,1]*scale+rand_plot_df[\"solidity8\"].iloc[i]\n",
    "    \n",
    "    plt.fill(curr_lfx, curr_lfy, lw=0, c=\"k\", alpha=0.3)\n",
    "    plt.xlabel(\"wl_ratio\")\n",
    "    plt.ylabel(\"solidity8\")\n",
    "    plt.title(\"Solidity^8 vs width-to-length ratio\\nshowing leaf shape\")"
   ]
  },
  {
   "cell_type": "markdown",
   "id": "f3838c48",
   "metadata": {},
   "source": [
    "### Calculate ECTs for each leaf"
   ]
  },
  {
   "cell_type": "markdown",
   "id": "4979ed29-9804-497f-a521-3311d57425ac",
   "metadata": {},
   "source": [
    "We need a folder to store the `ect` files. The code below will create the `ect_files` folder if it does not already exist.\n",
    "\n",
    "If you already created the `ect` files and have the `ect_files` folder, then you don't need to run the following code.\n"
   ]
  },
  {
   "cell_type": "code",
   "execution_count": null,
   "id": "a66f5d38-1cac-49c1-be55-0a4e10a767af",
   "metadata": {},
   "outputs": [],
   "source": [
    "path = \"ect_files\"\n",
    "# Check whether the specified path exists or not\n",
    "isExist = os.path.exists(path)\n",
    "if not isExist:\n",
    "   # Create a new directory because it does not exist\n",
    "   os.makedirs(path)\n",
    "   print(\"The new directory is created!\")"
   ]
  },
  {
   "cell_type": "code",
   "execution_count": null,
   "id": "d3805a53-edbd-4d61-9220-0fb28377ad3b",
   "metadata": {},
   "outputs": [],
   "source": [
    "rand_df"
   ]
  },
  {
   "cell_type": "code",
   "execution_count": null,
   "id": "f1ddf094",
   "metadata": {},
   "outputs": [],
   "source": [
    "num_dir=32 # set number of directional axes\n",
    "num_thresh=48 # set number of thresholds each axis\n",
    "rad = 0.5 # set the radius\n",
    "\n",
    "# create array to store ECT outputs\n",
    "# number of ECTs x num directional axes x number of thresholds\n",
    "ect_arr = np.zeros((len(rand_df),num_dir,num_thresh))\n",
    "\n",
    "for i in range(len(rand_df)): # for each cell\n",
    "    if i%100==0: # print if divisible by 100\n",
    "        print(i)\n",
    "    shape = np.load(rand_df[\"file\"].iloc[i]) # get the current shape\n",
    "    ect_arr[i,:,:] = get_ect(normal_sh=normalize(shape), # normalize the shape using PCA, save to ect_arr\n",
    "           dir_num=num_dir, # calculate the ECT\n",
    "           thresh_num=num_thresh,\n",
    "           global_bound_radius=rad)\n",
    "    np.save(\"./ect_files/\"+rand_df[\"group\"].iloc[i]+\"_\"+str(i)+\".npy\",ect_arr[i,:,:]) # save npy file"
   ]
  },
  {
   "cell_type": "markdown",
   "id": "2155d13a",
   "metadata": {},
   "source": [
    "### Plot leaves next to ECTs"
   ]
  },
  {
   "cell_type": "code",
   "execution_count": null,
   "id": "e7b1a7a8",
   "metadata": {},
   "outputs": [],
   "source": [
    "rand_num = 40 # set number of random leaves to visualize\n",
    "rand_state = 42 # set the random state\n",
    "\n",
    "rand_ect_df = rand_df.sample(n=rand_num, random_state=rand_state) # select random leaves\n",
    "\n",
    "counter = 1 # counter for plt.subplot\n",
    "plt.figure(figsize=(10,7))\n",
    "\n",
    "for i in rand_ect_df.index: # for each of the randomly chosen indices\n",
    "    \n",
    "    plt.subplot(8,10,counter)\n",
    "    curr_file = rand_ect_df[\"file\"][i] # get current file\n",
    "    curr_leaf = np.load(curr_file) # load current leaf\n",
    "    pca = PCA(n_components=2) # initiate PCA\n",
    "    pca.fit_transform(curr_leaf) # fit PCA to leaf data to find longest axis\n",
    "    pca_scores = pca.transform(curr_leaf) # retrieve PCA scores of leaf\n",
    "    plt.fill(pca_scores[:,0], pca_scores[:,1], lw=0, c=\"k\", alpha=0.5)\n",
    "    plt.axis(\"off\")\n",
    "    plt.gca().set_aspect(\"equal\")\n",
    "    \n",
    "    counter+=1\n",
    "    \n",
    "    plt.subplot(8,10,counter)\n",
    "    plt.imshow(ect_arr[i])\n",
    "    plt.axis(\"off\")\n",
    "    plt.gca().set_aspect(\"equal\")\n",
    "    \n",
    "    counter+=1\n",
    "    \n",
    "plt.tight_layout()\n"
   ]
  },
  {
   "cell_type": "markdown",
   "id": "0463b9b7-1da2-4fa1-939e-7438d40c85fc",
   "metadata": {},
   "source": [
    "After saving `ect` representations of each leaf above to the folder `ect_files`, you will be able to skip the above section. But it is important we save the associated dataframe `rand_df` as well. We will save this file as `leaf_df.csv`."
   ]
  },
  {
   "cell_type": "code",
   "execution_count": null,
   "id": "dd7149a2-8a9c-4088-9745-0a20a99714db",
   "metadata": {},
   "outputs": [],
   "source": [
    "rand_df.to_csv(\"leaf_df.csv\", index=False)"
   ]
  },
  {
   "cell_type": "markdown",
   "id": "87399707-f62f-476a-bbaf-0b4ee42fe639",
   "metadata": {},
   "source": [
    "______"
   ]
  },
  {
   "cell_type": "markdown",
   "id": "7f84a776-f675-4cf5-b069-42020560134a",
   "metadata": {},
   "source": [
    "# PHATE (Potential of Heat-diffusion for Affinity-based Trajectory Embedding)"
   ]
  },
  {
   "cell_type": "markdown",
   "id": "042ce587-4d2d-4f67-a68b-9c3587ba362c",
   "metadata": {},
   "source": [
    "We will be using [PHATE](https://github.com/KrishnaswamyLab/PHATE) to visualize the manifold underlying pavement cell shapes. You can learn more about PHATE from the following reference:\n",
    "\n",
    "Moon, van Dijk, Wang, Gigante et al. **[Visualizing Transitions and Structure for Biological Data Exploration](https://www.nature.com/articles/s41587-019-0336-3)**. 2019. *Nature Biotechnology*."
   ]
  },
  {
   "cell_type": "markdown",
   "id": "55d077e4-afa6-418e-aa23-36942cb68cad",
   "metadata": {},
   "source": [
    "_____"
   ]
  },
  {
   "cell_type": "markdown",
   "id": "382a2e9f-6754-4734-b6ee-02bb7d500f8f",
   "metadata": {},
   "source": [
    "You can skip to this section if you have already saved `ect` representations of the leaf shapes as `.npy` files in the folder `ect_files`, as described above. \n",
    "\n",
    "If you are skipping to this section, it is a good idea to read in the associated datafile `leaf_df.csv` again (which was saved above)."
   ]
  },
  {
   "cell_type": "code",
   "execution_count": null,
   "id": "c5a8fcb3-3d06-428e-b042-72fae1d6eefc",
   "metadata": {},
   "outputs": [],
   "source": [
    "leaf_df = pd.read_csv(\"leaf_df.csv\")"
   ]
  },
  {
   "cell_type": "markdown",
   "id": "678b5132-287c-4959-9d82-b3d6602bd59b",
   "metadata": {},
   "source": [
    "Before using PHATE, we will need to flatten the ect array"
   ]
  },
  {
   "cell_type": "code",
   "execution_count": null,
   "id": "b6b71a4d-4b30-48e9-a71b-4918e8303557",
   "metadata": {},
   "outputs": [],
   "source": [
    "# flatten the cell ECT data to a 2D array by sample\n",
    "flat_leaf_ect = np.reshape(ect_arr,\n",
    "                             (np.shape(ect_arr)[0],\n",
    "                              np.shape(ect_arr)[1]*np.shape(ect_arr)[2])\n",
    "                            )"
   ]
  },
  {
   "cell_type": "markdown",
   "id": "fae4388b-de99-43ee-9199-9ba004f5b748",
   "metadata": {},
   "source": [
    "The following is from ***[read the docs](https://phate.readthedocs.io/en/stable/)*** for PHATE:\n",
    "\n",
    "- n_components (int, optional, default: 2) – number of dimensions in which the data will be embedded\n",
    "- knn (int, optional, default: 5) – number of nearest neighbors on which to build kernel\n",
    "- decay (int, optional, default: 40) – sets decay rate of kernel tails. If None, alpha decaying kernel is not used\n",
    "- n_landmark (int, optional, default: 2000) – number of landmarks to use in fast PHATE\n",
    "- t (int, optional, default: 'auto') – power to which the diffusion operator is powered. This sets the level of diffusion. If ‘auto’, t is selected according to the knee point in the Von Neumann Entropy of the diffusion operator\n",
    "- gamma (float, optional, default: 1) – Informational distance constant between -1 and 1. gamma=1 gives the PHATE log potential, gamma=0 gives a square root potential.\n",
    "- n_pca (int, optional, default: 100) – Number of principal components to use for calculating neighborhoods. For extremely large datasets, using n_pca < 20 allows neighborhoods to be calculated in roughly log(n_samples) time.\n",
    "- mds_solver ({'sgd', 'smacof'}, optional (default: 'sgd')) – which solver to use for metric MDS. SGD is substantially faster, but produces slightly less optimal results. Note that SMACOF was used for all figures in the PHATE paper.\n",
    "- knn_dist (string, optional, default: 'euclidean') – recommended values: ‘euclidean’, ‘cosine’, ‘precomputed’ Any metric from scipy.spatial.distance can be used distance metric for building kNN graph. Custom distance functions of form f(x, y) = d are also accepted. If ‘precomputed’, data should be an n_samples x n_samples distance or affinity matrix. Distance matrices are assumed to have zeros down the diagonal, while affinity matrices are assumed to have non-zero values down the diagonal. This is detected automatically using data[0,0]. You can override this detection with knn_dist=’precomputed_distance’ or knn_dist=’precomputed_affinity’.\n",
    "- knn_max (int, optional, default: None) – Maximum number of neighbors for which alpha decaying kernel is computed for each point. For very large datasets, setting knn_max to a small multiple of knn can speed up computation significantly.\n",
    "- mds_dist (string, optional, default: 'euclidean') – Distance metric for MDS. Recommended values: ‘euclidean’ and ‘cosine’ Any metric from scipy.spatial.distance can be used. Custom distance functions of form f(x, y) = d are also accepted\n",
    "- mds (string, optional, default: 'metric') – choose from [‘classic’, ‘metric’, ‘nonmetric’]. Selects which MDS algorithm is used for dimensionality reduction\n",
    "- n_jobs (integer, optional, default: 1) – The number of jobs to use for the computation. If -1 all CPUs are used. If 1 is given, no parallel computing code is used at all, which is useful for debugging. For n_jobs below -1, (n_cpus + 1 + n_jobs) are used. Thus for n_jobs = -2, all CPUs but one are used\n",
    "- random_state (integer or numpy.RandomState, optional, default: None) – The generator used to initialize SMACOF (metric, nonmetric) MDS If an integer is given, it fixes the seed Defaults to the global numpy random number generator\n",
    "- verbose (int or boolean, optional (default: 1)) – If True or > 0, print status messages\n",
    "- potential_method (deprecated.) – Use gamma=1 for log transformation and gamma=0 for square root transformation.\n",
    "- kwargs (additional arguments for graphtools.Graph) –"
   ]
  },
  {
   "cell_type": "markdown",
   "id": "940fad7f-50fa-4128-b238-d74ab46d3584",
   "metadata": {},
   "source": [
    "### PHATE in 2 dimensions"
   ]
  },
  {
   "cell_type": "code",
   "execution_count": null,
   "id": "f5c70e62-9370-4270-88ae-e24e9f370be7",
   "metadata": {},
   "outputs": [],
   "source": [
    "# create the PHATE embedding and transform\n",
    "phate_operator = phate.PHATE(n_components=2)\n",
    "phate_leaf = phate_operator.fit_transform(flat_leaf_ect)"
   ]
  },
  {
   "cell_type": "markdown",
   "id": "d67afd58-86de-4e20-92aa-70f42dd946a9",
   "metadata": {},
   "source": [
    "Add the PHATE axes to the dataframe for plotting"
   ]
  },
  {
   "cell_type": "code",
   "execution_count": null,
   "id": "721b104e-f7b2-4075-9538-8f50e03c91f5",
   "metadata": {},
   "outputs": [],
   "source": [
    "leaf_df[\"2Dphate1\"] = phate_leaf[:,0]\n",
    "leaf_df[\"2Dphate2\"] = phate_leaf[:,1]"
   ]
  },
  {
   "cell_type": "markdown",
   "id": "29627b8f-ac42-4703-9f63-986bebd56b15",
   "metadata": {},
   "source": [
    "Head the dataframe so we know what we are working with"
   ]
  },
  {
   "cell_type": "code",
   "execution_count": null,
   "id": "8c490a11-afdf-4c8f-8234-91131af49497",
   "metadata": {},
   "outputs": [],
   "source": [
    "leaf_df.head()"
   ]
  },
  {
   "cell_type": "markdown",
   "id": "d037ea6c-a94c-48e2-add2-3570c1308c1c",
   "metadata": {},
   "source": [
    "Create a PHATE plot in 2D"
   ]
  },
  {
   "cell_type": "code",
   "execution_count": null,
   "id": "0d71625f-aced-471e-93d8-0a3a054b9f58",
   "metadata": {},
   "outputs": [],
   "source": [
    "plt.figure(figsize=(10,4)) # set figure size\n",
    "pt_size = 1 # set point size\n",
    "pal = \"inferno\" # set palette\n",
    "\n",
    "plt.subplot(1,3,1)\n",
    "sns.scatterplot(data=leaf_df, x=\"2Dphate1\", y=\"2Dphate2\", hue=\"group\", legend=False, s=pt_size)\n",
    "plt.title(\"PHATE1 and PHATE2\\nby group\")\n",
    "\n",
    "plt.subplot(1,3,2)\n",
    "sns.scatterplot(data=leaf_df, x=\"2Dphate1\", y=\"2Dphate2\", hue=\"wl_ratio\", legend=False, s=pt_size, palette=pal)\n",
    "plt.title(\"PHATE1 and PHATE2\\nby width-to-length ratio\")\n",
    "\n",
    "plt.subplot(1,3,3)\n",
    "sns.scatterplot(data=leaf_df, x=\"2Dphate1\", y=\"2Dphate2\", hue=\"solidity8\", legend=False, s=pt_size, palette=pal)\n",
    "plt.title(\"PHATE1 and PHATE2\\nby solidity\")\n",
    "\n",
    "plt.tight_layout()"
   ]
  },
  {
   "cell_type": "markdown",
   "id": "72ad5cbe-e8b5-4b07-95b3-73207717e40b",
   "metadata": {},
   "source": [
    "### PHATE in 3 dimensions"
   ]
  },
  {
   "cell_type": "code",
   "execution_count": null,
   "id": "6fa7ebfd-3ce8-42c3-b69b-f3bcf15d7cb8",
   "metadata": {},
   "outputs": [],
   "source": [
    "# create the PHATE embedding and transform\n",
    "phate_operator = phate.PHATE(n_components=3)\n",
    "phate_leaf = phate_operator.fit_transform(flat_leaf_ect)"
   ]
  },
  {
   "cell_type": "markdown",
   "id": "6ae5dc18-a682-4489-b138-6086c617a69a",
   "metadata": {},
   "source": [
    "Add the PHATE axes to the dataframe for plotting"
   ]
  },
  {
   "cell_type": "code",
   "execution_count": null,
   "id": "7fa5e0d8-add5-45f0-8688-7841364870d6",
   "metadata": {},
   "outputs": [],
   "source": [
    "leaf_df[\"3Dphate1\"] = phate_leaf[:,0]\n",
    "leaf_df[\"3Dphate2\"] = phate_leaf[:,1]\n",
    "leaf_df[\"3Dphate3\"] = phate_leaf[:,2]"
   ]
  },
  {
   "cell_type": "markdown",
   "id": "51a0afd4-a56a-4fc0-9e35-e543bfc1e5b2",
   "metadata": {},
   "source": [
    "Head the dataframe so we know what we are working with"
   ]
  },
  {
   "cell_type": "code",
   "execution_count": null,
   "id": "dd966645-ddc7-4061-b1ca-a55f7bad7a1b",
   "metadata": {},
   "outputs": [],
   "source": [
    "leaf_df.head()"
   ]
  },
  {
   "cell_type": "markdown",
   "id": "6573d178-28a8-46a7-ae8d-baf8673b7ee1",
   "metadata": {},
   "source": [
    "Create a 3D animation by major clade"
   ]
  },
  {
   "cell_type": "code",
   "execution_count": null,
   "id": "52e3f769-0fef-4070-ad95-7c47e212ce5f",
   "metadata": {
    "scrolled": true
   },
   "outputs": [],
   "source": [
    "sample_labels = leaf_df[\"group\"]\n",
    "\n",
    "# for a static plot use \"scatter3d\" instead of \"rotate_scatter3d\"\n",
    "# this saves to GIF and produces animation\n",
    "scprep.plot.rotate_scatter3d(phate_leaf, c=sample_labels, figsize=(8,6), ticks=True, label_prefix=\"PHATE\", filename=\"leaves_group.gif\")\n"
   ]
  },
  {
   "cell_type": "markdown",
   "id": "81c8a1e4-f754-490a-9f11-0bc7aa2417fe",
   "metadata": {},
   "source": [
    "Create a 3D animation by width-to-length ratio"
   ]
  },
  {
   "cell_type": "code",
   "execution_count": null,
   "id": "56158474-973c-463d-ad8c-59b37b26e529",
   "metadata": {},
   "outputs": [],
   "source": [
    "sample_labels = leaf_df[\"wl_ratio\"]\n",
    "\n",
    "# for a static plot use \"scatter3d\" instead of \"rotate_scatter3d\"\n",
    "# this saves to GIF and produces animation\n",
    "scprep.plot.rotate_scatter3d(phate_leaf, c=sample_labels, figsize=(8,6), ticks=True, label_prefix=\"PHATE\", \n",
    "                             filename=\"leaves_aspect_ratio.gif\", cmap=\"inferno\")"
   ]
  },
  {
   "cell_type": "markdown",
   "id": "27f287ef-b6c1-4a94-b39f-f2c94a8c59c9",
   "metadata": {},
   "source": [
    "Create a 3D animation by solidity"
   ]
  },
  {
   "cell_type": "code",
   "execution_count": null,
   "id": "9f351e5f-d125-437a-b2d3-444b228ff78e",
   "metadata": {},
   "outputs": [],
   "source": [
    "sample_labels = leaf_df[\"solidity8\"]\n",
    "\n",
    "# for a static plot use \"scatter3d\" instead of \"rotate_scatter3d\"\n",
    "# this saves to GIF and produces animation\n",
    "scprep.plot.rotate_scatter3d(phate_leaf, c=sample_labels, figsize=(8,6), ticks=True, label_prefix=\"PHATE\", \n",
    "                             filename=\"leaves_solidity.gif\", cmap=\"inferno\")"
   ]
  },
  {
   "cell_type": "markdown",
   "id": "f8bf8a2f-75fe-4066-b3fc-80d9af593fc5",
   "metadata": {},
   "source": [
    "Create a static subplot of 3D PHATE results"
   ]
  },
  {
   "cell_type": "code",
   "execution_count": null,
   "id": "4d30643e-8242-4318-87db-ef4f947c87d5",
   "metadata": {},
   "outputs": [],
   "source": [
    "plt.figure(figsize=(20,20)) # set figure size\n",
    "pt_size = 10 # set point size\n",
    "pal = \"inferno\" # set palette\n",
    "\n",
    "#####################\n",
    "# plot by major clade\n",
    "#####################\n",
    "\n",
    "plt.subplot(3,3,1)\n",
    "sns.scatterplot(data=leaf_df, x=\"3Dphate1\", y=\"3Dphate2\", hue=\"group\", legend=False, s=pt_size)\n",
    "plt.title(\"PHATE1 and PHATE2\\nby group\")\n",
    "\n",
    "plt.subplot(3,3,2)\n",
    "sns.scatterplot(data=leaf_df, x=\"3Dphate1\", y=\"3Dphate3\", hue=\"group\", legend=False, s=pt_size)\n",
    "plt.title(\"PHATE1 and PHATE3\\nby group\")\n",
    "\n",
    "plt.subplot(3,3,3)\n",
    "sns.scatterplot(data=leaf_df, x=\"3Dphate2\", y=\"3Dphate3\", hue=\"group\", legend=False, s=pt_size)\n",
    "plt.title(\"PHATE2 and PHATE3\\nby group\")\n",
    "\n",
    "###############################\n",
    "# plot by width-to-length ratio\n",
    "###############################\n",
    "\n",
    "plt.subplot(3,3,4)\n",
    "sns.scatterplot(data=leaf_df, x=\"3Dphate1\", y=\"3Dphate2\", hue=\"wl_ratio\", legend=False, s=pt_size, palette=pal)\n",
    "plt.title(\"PHATE1 and PHATE2\\nby width-to-length ratio\")\n",
    "\n",
    "plt.subplot(3,3,5)\n",
    "sns.scatterplot(data=leaf_df, x=\"3Dphate1\", y=\"3Dphate3\", hue=\"wl_ratio\", legend=False, s=pt_size, palette=pal)\n",
    "plt.title(\"PHATE1 and PHATE3\\nby width-to-length ratio\")\n",
    "\n",
    "plt.subplot(3,3,6)\n",
    "sns.scatterplot(data=leaf_df, x=\"3Dphate2\", y=\"3Dphate3\", hue=\"wl_ratio\", legend=False, s=pt_size, palette=pal)\n",
    "plt.title(\"PHATE2 and PHATE3\\nby width-to-length ratio\")\n",
    "\n",
    "##################\n",
    "# plot by solidity\n",
    "##################\n",
    "\n",
    "plt.subplot(3,3,7)\n",
    "sns.scatterplot(data=leaf_df, x=\"3Dphate1\", y=\"3Dphate2\", hue=\"solidity8\", legend=False, s=pt_size, palette=pal)\n",
    "plt.title(\"PHATE1 and PHATE2\\nby solidity\")\n",
    "\n",
    "plt.subplot(3,3,8)\n",
    "sns.scatterplot(data=leaf_df, x=\"3Dphate1\", y=\"3Dphate3\", hue=\"solidity8\", legend=False, s=pt_size, palette=pal)\n",
    "plt.title(\"PHATE1 and PHATE3\\nby solidity\")\n",
    "\n",
    "plt.subplot(3,3,9)\n",
    "sns.scatterplot(data=leaf_df, x=\"3Dphate2\", y=\"3Dphate3\", hue=\"solidity8\", legend=False, s=pt_size, palette=pal)\n",
    "plt.title(\"PHATE2 and PHATE3\\nby solidity\")"
   ]
  },
  {
   "cell_type": "markdown",
   "id": "13b4a685-fee7-444e-9fa9-d2d90d319128",
   "metadata": {},
   "source": [
    "In order to test the effects of rotation of the contour, we will translate each ECT along its direction axis (which is axis=0). Because we had 32 directions, we will use increments of 8 and the `np.roll` function 3 times (th fourth translation will be the original ECT image). We will save the different rotated/translated ECT images to arrays and compare their placement in PHATE."
   ]
  },
  {
   "cell_type": "code",
   "execution_count": null,
   "id": "e84aaf40-6159-4388-845a-3e337752b2da",
   "metadata": {},
   "outputs": [],
   "source": [
    "ect_rot1 = np.zeros(np.shape(ect_arr)) # create array to store first rotation\n",
    "ect_rot2 = np.zeros(np.shape(ect_arr)) # create array to store second rotation\n",
    "ect_rot3 = np.zeros(np.shape(ect_arr)) # create array to store third rotation\n",
    "\n",
    "for i in range(np.shape(ect_arr)[0]): # for each cell ECT\n",
    "\n",
    "    if i%1000==0: # print if i divisible by 1000\n",
    "        print(i)\n",
    "\n",
    "    curr_cell = ect_arr[i] # get the current cell ECT\n",
    "    ect_rot1[i,:,:] = np.roll(curr_cell, 8, axis=0) # rotate original ECT and store\n",
    "    ect_rot2[i,:,:] = np.roll(ect_rot1[i,:,:], 8, axis=0) # rotate from 1st rotation and store\n",
    "    ect_rot3[i,:,:] = np.roll(ect_rot2[i,:,:], 8, axis=0) # rotate from 2nd rotation and store\n",
    "\n",
    "ect_rot = np.stack([ect_arr,ect_rot1,ect_rot2,ect_rot3], axis=0) # stack the rotated ect arrays together\n",
    "\n",
    "print(np.shape(ect_rot)) # print the shape of the rotated ECT array before reshaping\n",
    "\n",
    "# reshape the ect_rot array so that the samples*rotations is one axis\n",
    "ect_rot = np.reshape(ect_rot, (np.shape(ect_rot)[0]*np.shape(ect_rot)[1],\n",
    "                               np.shape(ect_rot)[2],np.shape(ect_rot)[3]))\n",
    "\n",
    "# flatten the cell ECT data to a 2D array by sample\n",
    "flat_rot_ect = np.reshape(ect_rot,\n",
    "                             (np.shape(ect_rot)[0],\n",
    "                              np.shape(ect_rot)[1]*np.shape(ect_rot)[2])\n",
    "                            )\n",
    "\n",
    "# check the shape of the final ect_rot array\n",
    "np.shape(flat_rot_ect)\n"
   ]
  },
  {
   "cell_type": "markdown",
   "id": "df440a78-2312-4461-8302-67382dbdd1f8",
   "metadata": {},
   "source": [
    "Check that the rotation is working by selecting random ECTs to look at"
   ]
  },
  {
   "cell_type": "code",
   "execution_count": null,
   "id": "858700a3-e430-4895-a687-19ec159dc84d",
   "metadata": {},
   "outputs": [],
   "source": [
    "import random\n",
    "\n",
    "rands = []\n",
    "for i in range(4):\n",
    "    rands.append(random.randint(0,len(ect_arr)-1))\n",
    "\n",
    "plt.figure(figsize=(4,len(rands)))\n",
    "counter = 1\n",
    "\n",
    "for i in range(len(rands)):\n",
    "    ect0 = ect_arr[rands[i]]\n",
    "    ect1 = ect_rot1[rands[i]]\n",
    "    ect2 = ect_rot2[rands[i]]\n",
    "    ect3 = ect_rot3[rands[i]]\n",
    "    plt.subplot(len(rands),4,counter)\n",
    "    plt.imshow(ect0.T)\n",
    "    plt.axis(\"off\")\n",
    "    counter+=1\n",
    "    plt.subplot(len(rands),4,counter)\n",
    "    plt.imshow(ect1.T)\n",
    "    plt.axis(\"off\")\n",
    "    counter+=1\n",
    "    plt.subplot(len(rands),4,counter)\n",
    "    plt.imshow(ect2.T)\n",
    "    plt.axis(\"off\")\n",
    "    counter+=1\n",
    "    plt.subplot(len(rands),4,counter)\n",
    "    plt.imshow(ect3.T)\n",
    "    plt.axis(\"off\")\n",
    "    counter+=1\n",
    "\n",
    "plt.tight_layout()\n"
   ]
  },
  {
   "cell_type": "markdown",
   "id": "d8522313-1901-4c43-841f-3cd01636adae",
   "metadata": {},
   "source": [
    "Create a new dataframe with a `rotation` column with the rotation identity of the corresponding ECT"
   ]
  },
  {
   "cell_type": "code",
   "execution_count": null,
   "id": "30dac6b4-a214-40dc-8427-0aefc04a1e9f",
   "metadata": {},
   "outputs": [],
   "source": [
    "# create copy dataframes\n",
    "rot0_df = pavement_cell_df.copy()\n",
    "rot1_df = pavement_cell_df.copy()\n",
    "rot2_df = pavement_cell_df.copy()\n",
    "rot3_df = pavement_cell_df.copy()\n",
    "\n",
    "# populate the rotation column\n",
    "rot0_df[\"rotation\"] = \"rotate0\"\n",
    "rot1_df[\"rotation\"] = \"rotate1\"\n",
    "rot2_df[\"rotation\"] = \"rotate2\"\n",
    "rot3_df[\"rotation\"] = \"rotate3\"\n",
    "\n",
    "# concatenate the dataframes together\n",
    "rotate_df = pd.concat([rot0_df, rot1_df, rot2_df, rot3_df], ignore_index=True)\n",
    "\n",
    "# check the final dataframe\n",
    "rotate_df.tail()"
   ]
  },
  {
   "cell_type": "code",
   "execution_count": null,
   "id": "614ee116-0181-42e6-812e-e8c4c1b7619f",
   "metadata": {},
   "outputs": [],
   "source": [
    "# create the PHATE embedding and transform\n",
    "phate_operator = phate.PHATE(n_components=3)\n",
    "phate_rotation = phate_operator.fit_transform(flat_rot_ect)"
   ]
  },
  {
   "cell_type": "markdown",
   "id": "1014fd5a-cc52-454d-ad55-ca7f1911341d",
   "metadata": {},
   "source": [
    "Add the PHATE axes to the dataframe for plotting"
   ]
  },
  {
   "cell_type": "code",
   "execution_count": null,
   "id": "e2a0609a-456a-4627-9722-977dd6d26de7",
   "metadata": {},
   "outputs": [],
   "source": [
    "rotate_df[\"ROTphate1\"] = phate_rotation[:,0]\n",
    "rotate_df[\"ROTphate2\"] = phate_rotation[:,1]\n",
    "rotate_df[\"ROTphate3\"] = phate_rotation[:,2]"
   ]
  },
  {
   "cell_type": "markdown",
   "id": "8e44a33b-a351-46cc-85ef-e5e75d1c449a",
   "metadata": {},
   "source": [
    "Head the dataframe so we know what we are working with"
   ]
  },
  {
   "cell_type": "code",
   "execution_count": null,
   "id": "1a67423e-1f6c-4953-8cea-cee83587c354",
   "metadata": {},
   "outputs": [],
   "source": [
    "rotate_df.head()"
   ]
  },
  {
   "cell_type": "markdown",
   "id": "31310ee1-25bd-4a5c-8a44-d6a88e5d3029",
   "metadata": {},
   "source": [
    "Create a 3D animation by rotation"
   ]
  },
  {
   "cell_type": "code",
   "execution_count": null,
   "id": "03ce433e-df06-4910-808a-99e0c247f1c8",
   "metadata": {},
   "outputs": [],
   "source": [
    "sample_labels = rotate_df[\"rotation\"]\n",
    "\n",
    "# for a static plot use \"scatter3d\" instead of \"rotate_scatter3d\"\n",
    "# this saves to GIF and produces animation\n",
    "scprep.plot.rotate_scatter3d(phate_rotation, c=sample_labels, figsize=(8,6), ticks=True, label_prefix=\"PHATE\", filename=\"rotation_rotation.gif\")"
   ]
  },
  {
   "cell_type": "markdown",
   "id": "007336f9-3309-443c-8c73-184694db1f4b",
   "metadata": {},
   "source": [
    "Create a 3D animation by width-to-length ratio"
   ]
  },
  {
   "cell_type": "code",
   "execution_count": null,
   "id": "2d6d9e12-07c3-4626-916d-f3a2dc136352",
   "metadata": {},
   "outputs": [],
   "source": [
    "sample_labels = rotate_df[\"wl_ratio\"]\n",
    "\n",
    "# for a static plot use \"scatter3d\" instead of \"rotate_scatter3d\"\n",
    "# this saves to GIF and produces animation\n",
    "scprep.plot.rotate_scatter3d(phate_rotation, c=sample_labels, figsize=(8,6), ticks=True, label_prefix=\"PHATE\", cmap=\"inferno\",filename=\"rotation_aspect_ratio.gif\")"
   ]
  },
  {
   "cell_type": "markdown",
   "id": "1f8267f0-216a-40ee-aca3-3bced1ee2fcb",
   "metadata": {},
   "source": [
    "Create a 3D animation by solidity"
   ]
  },
  {
   "cell_type": "code",
   "execution_count": null,
   "id": "8bb4cd7e-9a48-4bab-bce1-cf9d2ca2a46b",
   "metadata": {},
   "outputs": [],
   "source": [
    "sample_labels = rotate_df[\"solidity8\"]\n",
    "\n",
    "# for a static plot use \"scatter3d\" instead of \"rotate_scatter3d\"\n",
    "# this saves to GIF and produces animation\n",
    "scprep.plot.rotate_scatter3d(phate_rotation, c=sample_labels, figsize=(8,6), ticks=True, label_prefix=\"PHATE\", cmap=\"inferno\",filename=\"rotation_solidity.gif\")\n"
   ]
  },
  {
   "cell_type": "code",
   "execution_count": null,
   "id": "13086127-5442-459b-936a-c60ed3c5cf41",
   "metadata": {},
   "outputs": [],
   "source": []
  },
  {
   "cell_type": "code",
   "execution_count": null,
   "id": "9349c478-fd24-4ac5-95be-7310507e5294",
   "metadata": {},
   "outputs": [],
   "source": []
  }
 ],
 "metadata": {
  "kernelspec": {
   "display_name": "Python 3 (ipykernel)",
   "language": "python",
   "name": "python3"
  },
  "language_info": {
   "codemirror_mode": {
    "name": "ipython",
    "version": 3
   },
   "file_extension": ".py",
   "mimetype": "text/x-python",
   "name": "python",
   "nbconvert_exporter": "python",
   "pygments_lexer": "ipython3",
   "version": "3.12.4"
  }
 },
 "nbformat": 4,
 "nbformat_minor": 5
}
